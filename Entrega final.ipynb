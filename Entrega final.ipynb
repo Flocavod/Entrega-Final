{
 "cells": [
  {
   "cell_type": "markdown",
   "id": "2a1ea87b-faa9-4b00-a8ee-555cf4694c6e",
   "metadata": {},
   "source": [
    "# Entrega final\n",
    "\n",
    "**(Se requiere el notebook \"Análisis de sueldos\" resuelto)**"
   ]
  },
  {
   "cell_type": "markdown",
   "id": "d4975286-13ed-4cf9-b9a4-d85273f6f253",
   "metadata": {},
   "source": [
    "En base a los resultados obtenidos en *\"Análisis de sueldos\"* confeccionar conclusiones respecto a:\n",
    "\n",
    "- Rol vs sueldos\n",
    "- Nivel de educación alcanzada vs sueldos\n",
    "- Género vs sueldos\n",
    "- Tecnologías populares"
   ]
  },
  {
   "cell_type": "raw",
   "id": "b3a0a383-8109-45f0-bf2c-de10fb530519",
   "metadata": {},
   "source": [
    "Nivel de educación alcanzada vs sueldos: En base a los resultados obtenidos se puede observar una correlación positiva entre el nivel educativo y los sueldos pagados por las empresas. Esta relación tiene sentido dado a que a mayor nivel educativo, las personas cuenta con más herramientas para desempeñarse en el mundo laboral en trabajos mas calificados. A su vez, las empresas con estándares altos de calificación de sus recursos humanos se caracterizan por ofrecer salarios altos para captar a los mismos, dado que además se sabe que la oferta de mano de obra calificada es menor a la no calificada. Se puede concluir que la brecha entre el nivel educativo secundario/terciario y el universitario es de aproximadamente 20%, en favor de estos últimos. A partir del nivel terciario comienza a disminuir la relación entre la educación y salarios, esto puede deberse a que la estructura productiva de America Latina no demanda por el momento este tipo de puestos y por lo tanto estas personas se desempeñan en otros países más desarrollados. Se observa que los salarios del nivel educativo posdoctorado es muy inferior a la de personas con nivel secundario, esto se podría deber a lo mencionado anteriormente dado que sino no tiene sentido dicha relación.\n",
    "\n",
    "Género vs sueldos: La paticipación de personas que se identifican con el género masculino en la encuesta realiza es ampliamente superior (82,4%) al resto de los géneros. Se puede observar que los salarios de los hombres son mayores al de las mujeres, estos resultados respaldan la evidencia de la cual se tiene conocimiento hace muchos años. Si bien en el siglo XXI las mujeres ya están incertas en el mundo laboral y se ha avanzado muchisimo en esta materia, sigue permaneciendo la diferencia salarial con los hombres, incluso a iguales niveles educativos. Acerca del género varón trans se puede obrsevar con respecto a los dos generos anteriormente mencionados superior en materia de salarios. Esto puede deberse a que el cálculo realizado se enfoca en donde se acumula el 0,5 de la probabilidad, y al registrarse un menor número de personas identificadas con dicho genero en la encuesta, se llega a un salario elevado \"más rápido\" que en los otros casos. Dado que no existe evidencia que respalde un salario mayor por parte de estos en pos del resto de los generos."
   ]
  },
  {
   "cell_type": "markdown",
   "id": "9dee1c42-e2ff-47fb-b892-9aa835c47e4d",
   "metadata": {},
   "source": [
    "Generar gráficos de barra para mostrar los resultados mencionados anteriormente usando strings, ej:\n",
    "\n",
    "```\n",
    "developer | -----------------------------------------------\n",
    "sysadmin  | ---------------------------\n",
    "QA        | ------------------\n",
    "          | -----------------5%--------10%----------------40%\n",
    "```"
   ]
  },
  {
   "cell_type": "code",
   "execution_count": null,
   "id": "9f7f6474-d3eb-47bf-8c5b-9ae92bdca096",
   "metadata": {},
   "outputs": [],
   "source": []
  }
 ],
 "metadata": {
  "kernelspec": {
   "display_name": "Python 3 (ipykernel)",
   "language": "python",
   "name": "python3"
  },
  "language_info": {
   "codemirror_mode": {
    "name": "ipython",
    "version": 3
   },
   "file_extension": ".py",
   "mimetype": "text/x-python",
   "name": "python",
   "nbconvert_exporter": "python",
   "pygments_lexer": "ipython3",
   "version": "3.9.5"
  }
 },
 "nbformat": 4,
 "nbformat_minor": 5
}
